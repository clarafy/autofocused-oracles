{
 "cells": [
  {
   "cell_type": "code",
   "execution_count": 1,
   "metadata": {},
   "outputs": [],
   "source": [
    "import util\n",
    "import numpy as np\n",
    "import matplotlib.pyplot as plt\n",
    "import seaborn as sns\n",
    "sns.set_context(\"notebook\");\n",
    "sns.set_style(\"darkgrid\");"
   ]
  },
  {
   "cell_type": "markdown",
   "metadata": {},
   "source": [
    "# evaluating superconductor design results"
   ]
  },
  {
   "cell_type": "code",
   "execution_count": 3,
   "metadata": {},
   "outputs": [
    {
     "name": "stdout",
     "output_type": "stream",
     "text": [
      "\n",
      "CBAS:\n",
      "            GT Median  |  GT Max  |  PCI  |  rho  |  RMSE\n",
      "Original    51.49         103.80     0.11    0.05    17.24 \n",
      "Autofocused 76.36         119.77     3.78    0.56    12.85 \n",
      "Mean Diff.  24.87         15.97      3.68    0.51    -4.39 \n",
      "p-value     0.0051        0.0051     0.0051  0.0051  0.0051\n",
      "\n",
      "DBAS:\n",
      "            GT Median  |  GT Max  |  PCI  |  rho  |  RMSE\n",
      "Original    57.00         98.38      0.11    0.01    29.63 \n",
      "Autofocused 78.93         111.55     4.35    0.01    24.50 \n",
      "Mean Diff.  21.93         13.16      4.25    0.01    -5.13 \n",
      "p-value     0.0051        0.0093     0.0077  0.7989  0.0469\n",
      "\n",
      "RWR:\n",
      "            GT Median  |  GT Max  |  PCI  |  rho  |  RMSE\n",
      "Original    43.43         101.98     0.04    0.92    7.35  \n",
      "Autofocused 71.40         113.95     1.60    0.65    12.73 \n",
      "Mean Diff.  27.97         11.97      1.55    -0.27   5.38  \n",
      "p-value     0.0051        0.0051     0.0050  0.0051  0.0051\n",
      "\n",
      "FB:\n",
      "            GT Median  |  GT Max  |  PCI  |  rho  |  RMSE\n",
      "Original    49.18         100.61     0.14    0.09    17.48 \n",
      "Autofocused 64.23         111.61     0.86    0.49    11.13 \n",
      "Mean Diff.  15.04         10.99      0.73    0.40    -6.36 \n",
      "p-value     0.0051        0.0051     0.0049  0.0051  0.0051\n",
      "\n",
      "CEM-PI:\n",
      "            GT Median  |  GT Max  |  PCI  |  rho  |  RMSE\n",
      "Original    34.45         55.75      0.00    -0.16   148.29\n",
      "Autofocused 67.03         98.00      1.69    0.13    29.43 \n",
      "Mean Diff.  32.58         42.25      1.69    0.29    -118.86\n",
      "p-value     0.0069        0.0125     0.0277  0.1141  0.0051\n",
      "\n",
      "CMA-ES:\n",
      "            GT Median  |  GT Max  |  PCI  |  rho  |  RMSE\n",
      "Original    42.06         69.44      0.00    0.27    27493.22\n",
      "Autofocused 50.19         85.77      0.01    0.52    9499.75\n",
      "Mean Diff.  8.14          16.33      0.01    0.25    -17993.47\n",
      "p-value     0.0125        0.0125     0.3173  0.0367  0.0284\n"
     ]
    }
   ],
   "source": [
    "n_trials = 10\n",
    "iw_alpha = 0.2\n",
    "percentile = 80  # oracle percentile threshold for picking best candidates\n",
    "scores_trx = np.zeros([n_trials, 5])\n",
    "scoresaf_trx = np.zeros([n_trials, 5])\n",
    "\n",
    "for method in ['cbas', 'dbas', 'rwr', 'fb', 'cem-pi', 'cma-es']:\n",
    "    print(\"\\n{}:\".format(method.upper()))\n",
    "    for seed in range(n_trials):\n",
    "        d = np.load(\"results/{}_traj_noaf_4-100_seed{}.npz\".format(method, seed))\n",
    "        last_iter = d['last_iter']\n",
    "        oracle_txm = d['oracle_txm'][: last_iter]\n",
    "        gt_txm = d['gt_txm'][: last_iter]\n",
    "        gt0_n = d['gt0_n']\n",
    "\n",
    "        d = np.load(\"results/{}_traj_af{}_4-100_seed{}.npz\".format(method, iw_alpha, seed))\n",
    "        last_iter_af = d['last_iter']\n",
    "        oracleaf_txm = d['oracle_txm'][: last_iter_af]\n",
    "        gtaf_txm = d['gt_txm'][: last_iter_af]\n",
    "        gt0af_n = d['gt0_n']\n",
    "        scores, scoresaf, t, taf = util.score_top_candidates(oracle_txm, gt_txm, gt0_n,\n",
    "                                                             oracleaf_txm, gtaf_txm, gt0af_n, percentile)\n",
    "        scores_trx[seed] = scores\n",
    "        scoresaf_trx[seed] = scoresaf\n",
    "    util.compare_af(scores_trx, scoresaf_trx)"
   ]
  }
 ],
 "metadata": {
  "kernelspec": {
   "display_name": "TensorFlow-CPU-2.1.0",
   "language": "python",
   "name": "tf-cpu"
  },
  "language_info": {
   "codemirror_mode": {
    "name": "ipython",
    "version": 3
   },
   "file_extension": ".py",
   "mimetype": "text/x-python",
   "name": "python",
   "nbconvert_exporter": "python",
   "pygments_lexer": "ipython3",
   "version": "3.7.7"
  }
 },
 "nbformat": 4,
 "nbformat_minor": 4
}
